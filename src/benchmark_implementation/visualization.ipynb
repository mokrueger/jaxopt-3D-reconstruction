{
 "cells": [
  {
   "cell_type": "code",
   "execution_count": 3,
   "metadata": {
    "collapsed": true,
    "ExecuteTime": {
     "end_time": "2023-07-18T14:58:01.429313201Z",
     "start_time": "2023-07-18T14:58:01.428177538Z"
    }
   },
   "outputs": [],
   "source": [
    "import os\n",
    "\n",
    "from src.benchmark.benchmark import Benchmark\n",
    "from src.benchmark_implementation.benchmark_visualization import single_pose_statistics, bundle_adjustment_statistics\n",
    "from src.config import BENCHMARK_SINGLE_POSE_RESULTS_PATH, BENCHMARK_BUNDLE_ADJUSTMENT_RESULTS_PATH"
   ]
  },
  {
   "cell_type": "code",
   "execution_count": 1,
   "outputs": [
    {
     "ename": "NameError",
     "evalue": "name 'Benchmark' is not defined",
     "output_type": "error",
     "traceback": [
      "\u001B[0;31m---------------------------------------------------------------------------\u001B[0m",
      "\u001B[0;31mNameError\u001B[0m                                 Traceback (most recent call last)",
      "Cell \u001B[0;32mIn[1], line 1\u001B[0m\n\u001B[0;32m----> 1\u001B[0m latest_single_pose_benchmarks \u001B[38;5;241m=\u001B[39m \u001B[43mBenchmark\u001B[49m\u001B[38;5;241m.\u001B[39mload_pickle_folder(\n\u001B[1;32m      2\u001B[0m         os\u001B[38;5;241m.\u001B[39mpath\u001B[38;5;241m.\u001B[39mjoin(BENCHMARK_SINGLE_POSE_RESULTS_PATH, \u001B[38;5;124m\"\u001B[39m\u001B[38;5;124mlatest\u001B[39m\u001B[38;5;124m\"\u001B[39m)\n\u001B[1;32m      3\u001B[0m     )\n\u001B[1;32m      4\u001B[0m latest_bundle_adjustment_benchmarks \u001B[38;5;241m=\u001B[39m Benchmark\u001B[38;5;241m.\u001B[39mload_pickle_folder(\n\u001B[1;32m      5\u001B[0m         os\u001B[38;5;241m.\u001B[39mpath\u001B[38;5;241m.\u001B[39mjoin(BENCHMARK_BUNDLE_ADJUSTMENT_RESULTS_PATH, \u001B[38;5;124m\"\u001B[39m\u001B[38;5;124mlatest\u001B[39m\u001B[38;5;124m\"\u001B[39m)\n\u001B[1;32m      6\u001B[0m     )\n\u001B[1;32m      7\u001B[0m \u001B[38;5;66;03m#  single_pose_statistics(latest_single_pose_benchmarks)\u001B[39;00m\n",
      "\u001B[0;31mNameError\u001B[0m: name 'Benchmark' is not defined"
     ]
    }
   ],
   "source": [
    "latest_single_pose_benchmarks = Benchmark.load_pickle_folder(\n",
    "        os.path.join(BENCHMARK_SINGLE_POSE_RESULTS_PATH, \"latest\")\n",
    "    )\n",
    "latest_bundle_adjustment_benchmarks = Benchmark.load_pickle_folder(\n",
    "        os.path.join(BENCHMARK_BUNDLE_ADJUSTMENT_RESULTS_PATH, \"latest\")\n",
    "    )\n",
    "#  single_pose_statistics(latest_single_pose_benchmarks)\n",
    "bundle_adjustment_statistics(latest_bundle_adjustment_benchmarks)"
   ],
   "metadata": {
    "collapsed": false,
    "ExecuteTime": {
     "end_time": "2023-07-18T16:57:55.896360435Z",
     "start_time": "2023-07-18T16:57:55.832788098Z"
    }
   }
  },
  {
   "cell_type": "code",
   "execution_count": null,
   "outputs": [],
   "source": [],
   "metadata": {
    "collapsed": false
   }
  }
 ],
 "metadata": {
  "kernelspec": {
   "display_name": "Python 3",
   "language": "python",
   "name": "python3"
  },
  "language_info": {
   "codemirror_mode": {
    "name": "ipython",
    "version": 2
   },
   "file_extension": ".py",
   "mimetype": "text/x-python",
   "name": "python",
   "nbconvert_exporter": "python",
   "pygments_lexer": "ipython2",
   "version": "2.7.6"
  }
 },
 "nbformat": 4,
 "nbformat_minor": 0
}
